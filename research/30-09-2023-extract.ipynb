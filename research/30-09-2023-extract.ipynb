{
 "cells": [
  {
   "cell_type": "markdown",
   "metadata": {},
   "source": [
    "# **Item  2 - Sobre a Dadosfera**"
   ]
  },
  {
   "cell_type": "markdown",
   "metadata": {},
   "source": [
    "## Problema\n",
    "\n",
    "<p align=\"justify\"> Parabéns! Conseguimos convencer o cliente de usar a Dadosfera. Agora, precisamos iniciar o projeto de implementação da nossa solução para um case específico. Vamos iniciar com o carregamento e posterior análise descritiva dos dados de produtos de um site para análise. Os dados estão disponíveis neste site. Toda a documentação sobre o dataset também esta disponível. </p>\n",
    "\n",
    "<p align=\"justify\"> Usando os seus conhecimentos da documentação da Dadosfera, faça a carga desse dataset, catalogue-o com as informações mais relevantes, seguindo boas práticas de Dicionário de Dados. </p>"
   ]
  },
  {
   "cell_type": "markdown",
   "metadata": {},
   "source": [
    "Portanto, vou utilizar primeiramente esse notebook como research, para depois construir um script .py, além de uma arquivo schema.yaml."
   ]
  },
  {
   "cell_type": "code",
   "execution_count": 1,
   "metadata": {},
   "outputs": [
    {
     "name": "stderr",
     "output_type": "stream",
     "text": [
      "/home/bruno/BRUNO_DIFRANCO_DDF_DATAANALYST_102023/.venv/lib/python3.10/site-packages/tqdm/auto.py:21: TqdmWarning: IProgress not found. Please update jupyter and ipywidgets. See https://ipywidgets.readthedocs.io/en/stable/user_install.html\n",
      "  from .autonotebook import tqdm as notebook_tqdm\n"
     ]
    }
   ],
   "source": [
    "from datasets import load_dataset\n",
    "import os"
   ]
  },
  {
   "cell_type": "code",
   "execution_count": 10,
   "metadata": {},
   "outputs": [],
   "source": [
    "# ! curl -X GET \\\n",
    "#      \"https://datasets-server.huggingface.co/first-rows?dataset=spacemanidol%2Fproduct-search-corpus&config=default&split=train\""
   ]
  },
  {
   "cell_type": "markdown",
   "metadata": {},
   "source": [
    "Trocando o diretório para a pasta principal do repositório."
   ]
  },
  {
   "cell_type": "code",
   "execution_count": 3,
   "metadata": {},
   "outputs": [
    {
     "name": "stdout",
     "output_type": "stream",
     "text": [
      "/home/bruno/BRUNO_DIFRANCO_DDF_DATAANALYST_102023\n"
     ]
    }
   ],
   "source": [
    "os.chdir(\"..\")\n",
    "!pwd"
   ]
  },
  {
   "cell_type": "markdown",
   "metadata": {},
   "source": [
    "Importando os dados com a biblioteca \"datasets\"."
   ]
  },
  {
   "cell_type": "code",
   "execution_count": 4,
   "metadata": {},
   "outputs": [],
   "source": [
    "dataset = load_dataset(\"spacemanidol/product-search-corpus\", \n",
    "                       split=\"train\")"
   ]
  },
  {
   "cell_type": "markdown",
   "metadata": {},
   "source": [
    "Convertendo para pandas, para melhor observação, além de verificar tipos de dados (que serão colocados no schema.yaml), dados faltantes, etc."
   ]
  },
  {
   "cell_type": "code",
   "execution_count": 5,
   "metadata": {},
   "outputs": [],
   "source": [
    "df = dataset.to_pandas()"
   ]
  },
  {
   "cell_type": "markdown",
   "metadata": {},
   "source": [
    "Salvando localmente os dados."
   ]
  },
  {
   "cell_type": "code",
   "execution_count": 6,
   "metadata": {},
   "outputs": [],
   "source": [
    "save_path = \"./artifacts/data_ingestion\"\n",
    "if not os.path.exists(save_path):\n",
    "    os.makedirs(save_path)\n",
    "\n",
    "df.to_parquet(os.path.join(save_path, \"data.parquet\"), compression=\"gzip\")"
   ]
  },
  {
   "cell_type": "code",
   "execution_count": null,
   "metadata": {},
   "outputs": [
    {
     "data": {
      "text/plain": [
       "docid    object\n",
       "title    object\n",
       "text     object\n",
       "dtype: object"
      ]
     },
     "execution_count": 14,
     "metadata": {},
     "output_type": "execute_result"
    }
   ],
   "source": [
    "df.dtypes"
   ]
  },
  {
   "cell_type": "code",
   "execution_count": null,
   "metadata": {},
   "outputs": [
    {
     "data": {
      "text/plain": [
       "docid    0\n",
       "title    0\n",
       "text     0\n",
       "dtype: int64"
      ]
     },
     "execution_count": 22,
     "metadata": {},
     "output_type": "execute_result"
    }
   ],
   "source": [
    "df.isna().sum()"
   ]
  },
  {
   "cell_type": "code",
   "execution_count": null,
   "metadata": {},
   "outputs": [
    {
     "data": {
      "text/plain": [
       "(1118658, 3)"
      ]
     },
     "execution_count": 23,
     "metadata": {},
     "output_type": "execute_result"
    }
   ],
   "source": [
    "df.shape"
   ]
  },
  {
   "cell_type": "code",
   "execution_count": null,
   "metadata": {},
   "outputs": [
    {
     "data": {
      "text/html": [
       "<div>\n",
       "<style scoped>\n",
       "    .dataframe tbody tr th:only-of-type {\n",
       "        vertical-align: middle;\n",
       "    }\n",
       "\n",
       "    .dataframe tbody tr th {\n",
       "        vertical-align: top;\n",
       "    }\n",
       "\n",
       "    .dataframe thead th {\n",
       "        text-align: right;\n",
       "    }\n",
       "</style>\n",
       "<table border=\"1\" class=\"dataframe\">\n",
       "  <thead>\n",
       "    <tr style=\"text-align: right;\">\n",
       "      <th></th>\n",
       "      <th>docid</th>\n",
       "      <th>title</th>\n",
       "      <th>text</th>\n",
       "    </tr>\n",
       "  </thead>\n",
       "  <tbody>\n",
       "    <tr>\n",
       "      <th>974151</th>\n",
       "      <td>1446955</td>\n",
       "      <td>Ravensburger 82093 Great Outdoors Puzzle Serie...</td>\n",
       "      <td>Product Description Explore the Great Outdoor ...</td>\n",
       "    </tr>\n",
       "    <tr>\n",
       "      <th>196149</th>\n",
       "      <td>291057</td>\n",
       "      <td>ESPN Sports Air Hockey Game Table: Indoor Arca...</td>\n",
       "      <td>From the manufacturer Read more Read more High...</td>\n",
       "    </tr>\n",
       "    <tr>\n",
       "      <th>229401</th>\n",
       "      <td>340343</td>\n",
       "      <td>2 Pack 12 oz Wine Tumbler with Lids, Double Wa...</td>\n",
       "      <td>Product Description Product Features: 1.Great ...</td>\n",
       "    </tr>\n",
       "    <tr>\n",
       "      <th>351719</th>\n",
       "      <td>522065</td>\n",
       "      <td>ChromaCast Acoustic Jumbo Hard Case (CC-AJHC)</td>\n",
       "      <td>Product Description ChromaCast hard cases are ...</td>\n",
       "    </tr>\n",
       "    <tr>\n",
       "      <th>1031866</th>\n",
       "      <td>1532923</td>\n",
       "      <td>WOPET 6L Automatic Cat Feeder,Wi-Fi Enabled Sm...</td>\n",
       "      <td>From the brand Healthier pets, Happier lives! ...</td>\n",
       "    </tr>\n",
       "  </tbody>\n",
       "</table>\n",
       "</div>"
      ],
      "text/plain": [
       "           docid                                              title  \\\n",
       "974151   1446955  Ravensburger 82093 Great Outdoors Puzzle Serie...   \n",
       "196149    291057  ESPN Sports Air Hockey Game Table: Indoor Arca...   \n",
       "229401    340343  2 Pack 12 oz Wine Tumbler with Lids, Double Wa...   \n",
       "351719    522065      ChromaCast Acoustic Jumbo Hard Case (CC-AJHC)   \n",
       "1031866  1532923  WOPET 6L Automatic Cat Feeder,Wi-Fi Enabled Sm...   \n",
       "\n",
       "                                                      text  \n",
       "974151   Product Description Explore the Great Outdoor ...  \n",
       "196149   From the manufacturer Read more Read more High...  \n",
       "229401   Product Description Product Features: 1.Great ...  \n",
       "351719   Product Description ChromaCast hard cases are ...  \n",
       "1031866  From the brand Healthier pets, Happier lives! ...  "
      ]
     },
     "execution_count": 25,
     "metadata": {},
     "output_type": "execute_result"
    }
   ],
   "source": [
    "df.sample(5)"
   ]
  }
 ],
 "metadata": {
  "kernelspec": {
   "display_name": "Python 3",
   "language": "python",
   "name": "python3"
  },
  "language_info": {
   "codemirror_mode": {
    "name": "ipython",
    "version": 3
   },
   "file_extension": ".py",
   "mimetype": "text/x-python",
   "name": "python",
   "nbconvert_exporter": "python",
   "pygments_lexer": "ipython3",
   "version": "3.10.12"
  },
  "orig_nbformat": 4
 },
 "nbformat": 4,
 "nbformat_minor": 2
}
